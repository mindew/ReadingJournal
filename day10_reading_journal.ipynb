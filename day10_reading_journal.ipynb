{
 "cells": [
  {
   "cell_type": "markdown",
   "metadata": {},
   "source": [
    "# Day 10 Reading Journal\n",
    "\n",
    "This journal includes several required exercises, but it is meant to encourage active reading more generally.  You should use the journal to take detailed notes, catalog questions, and explore the content from Think Python deeply.\n",
    "\n",
    "Reading: Review Think Python Chapters 15-17\n",
    "\n",
    "**Due: Thursday, February 23 at 12 noon**\n",
    "\n"
   ]
  },
  {
   "cell_type": "markdown",
   "metadata": {},
   "source": [
    "## [Chapter 15](http://www.greenteapress.com/thinkpython2/html/thinkpython2016.html), [Chapter 16](http://www.greenteapress.com/thinkpython2/html/thinkpython2017.html), [Chapter 17](http://www.greenteapress.com/thinkpython2/html/thinkpython2018.html)\n",
    "\n",
    "\n",
    "By the end of chapter 17, we have all the tools we need to create our own user-defined types known as classes. In this reading journal, we're asking you to review and solidify your understanding of this material so we can build on it for the rest of the course. \n",
    "\n",
    "If you didn't get a chance to fully complete the Day 9 reading journal, you may want to do so now."
   ]
  },
  {
   "cell_type": "markdown",
   "metadata": {
    "problem": "Terminology"
   },
   "source": [
    "### Terminology\n",
    "\n",
    "You should be familiar with the following list of terms and concepts. If any of them are unclear to you, re-read, ask, write a definition in your own words, and try an example if appropriate.\n",
    "\n",
    " - class\n",
    " - object\n",
    " - instance\n",
    " - attribute\n",
    " - method\n",
    " - shallow vs deep copying\n",
    " - pure functions vs modifiers\n",
    " - initializing object instances\n",
    " "
   ]
  },
  {
   "cell_type": "markdown",
   "metadata": {
    "is_question": true,
    "problem": "Exercise 1"
   },
   "source": [
    "### Exercise\n",
    "\n",
    "We're going to take the first steps toward writing a calendar application. To keep things simple, we'll restrict ourselves to a single day for now. Write an `Event` class with the following attributes:\n",
    "\n",
    " - `name`  : Title for the `Event`\n",
    " - `start` : `Time` object representing the start time for the `Event`\n",
    " - `end`   : `Time` object representing the end time for the `Event`\n",
    "\n",
    "You can also augment your `Event` class with additional attributes, such as location and attendees.\n",
    "\n",
    "Write `__init__` and `__str__` methods for your `Event` class."
   ]
  },
  {
   "cell_type": "code",
   "execution_count": 4,
   "metadata": {
    "collapsed": false,
    "solution": "Exercise 1"
   },
   "outputs": [
    {
     "name": "stdout",
     "output_type": "stream",
     "text": [
      "Event: SoftDes!\n",
      "Start: 2017-02-23 01:00:00\n",
      "End: 2017-02-23 03:00:00\n",
      "2:00:00\n"
     ]
    }
   ],
   "source": [
    "import datetime\n",
    "class Event: \n",
    "    def __init__(self, name, start, end):\n",
    "        self.name = name\n",
    "        self.start = start\n",
    "        self.end = end\n",
    "        \n",
    "    def __str__(self):\n",
    "        return 'Event: ' + self.name + '\\nStart: ' + str(self.start) + '\\nEnd: ' + str(self.end)\n",
    "    \n",
    "    def duration(self):\n",
    "        return self.end - self.start\n",
    "    \n",
    "softdes_start = datetime.datetime(year = 2017, month = 2, day = 23, hour = 1, minute = 0)\n",
    "softdes_ends = datetime.datetime(year = 2017, month = 2, day = 23, hour = 3, minute = 0)\n",
    "softdes = Event('SoftDes!', softdes_start, softdes_ends)\n",
    "print(softdes)\n",
    "print(softdes.duration())\n"
   ]
  },
  {
   "cell_type": "markdown",
   "metadata": {
    "is_question": true,
    "problem": "Exercise 2"
   },
   "source": [
    "### Exercise\n",
    "\n",
    "Write a `duration` method that returns the duration of the `Event` in minutes."
   ]
  },
  {
   "cell_type": "code",
   "execution_count": 7,
   "metadata": {
    "collapsed": false,
    "solution": "Exercise 2"
   },
   "outputs": [
    {
     "name": "stdout",
     "output_type": "stream",
     "text": [
      "Event: SoftDes!\n",
      "Start: 2017-02-23 01:27:00\n",
      "End: 2017-02-23 03:30:00\n",
      "2:03:00\n"
     ]
    }
   ],
   "source": [
    "import datetime\n",
    "class Event: \n",
    "    def __init__(self, name, start, end):\n",
    "        self.name = name\n",
    "        self.start = start\n",
    "        self.end = end\n",
    "        \n",
    "    def __str__(self):\n",
    "        return 'Event: ' + self.name + '\\nStart: ' + str(self.start) + '\\nEnd: ' + str(self.end)\n",
    "    \n",
    "    def duration(self):\n",
    "        return self.end - self.start\n",
    "    \n",
    "    def starting(self):\n",
    "        return self.start\n",
    "    \n",
    "softdes_start = datetime.datetime(year = 2017, month = 2, day = 23, hour = 1, minute = 27)\n",
    "softdes_ends = datetime.datetime(year = 2017, month = 2, day = 23, hour = 3, minute = 30)\n",
    "softdes = Event('SoftDes!', softdes_start, softdes_ends)\n",
    "print(softdes)\n",
    "print(softdes.duration())"
   ]
  },
  {
   "cell_type": "markdown",
   "metadata": {
    "is_question": true,
    "problem": "Exercise 3"
   },
   "source": [
    "### Exercise\n",
    "\n",
    "Write an `Agenda` class that contains several `Event`s for the day.\n",
    "\n",
    "**Quick check: ** How should you store `Event`s within your `Agenda` class?\n"
   ]
  },
  {
   "cell_type": "markdown",
   "metadata": {},
   "source": [
    "store Events as attributes of Agenda"
   ]
  },
  {
   "cell_type": "code",
   "execution_count": 14,
   "metadata": {
    "collapsed": false
   },
   "outputs": [
    {
     "name": "stdout",
     "output_type": "stream",
     "text": [
      "Event: SoftDes!\n",
      "Start: 2017-02-23 01:27:00\n",
      "End: 2017-02-23 03:30:00\n",
      "\n",
      "Event: QEA!\n",
      "Start: 2017-02-23 09:00:00\n",
      "End: 2017-02-23 12:30:00\n",
      "\n"
     ]
    }
   ],
   "source": [
    "class Agenda:\n",
    "        def __init__(self, events):\n",
    "            self.events = events\n",
    "            \n",
    "        def __str__(self):\n",
    "            return self.events\n",
    "        \n",
    "        def print_agenda(self):\n",
    "            event_list = [(event.starting(), str(event)) for event in self.events]\n",
    "            for tuples in event_list:\n",
    "                print(tuples[1])\n",
    "                # prints the first value of tuple \n",
    "                print()\n",
    "    \n",
    "softdes_start = datetime.datetime(year = 2017, month = 2, day = 23, hour = 1, minute = 27)\n",
    "softdes_ends = datetime.datetime(year = 2017, month = 2, day = 23, hour = 3, minute = 30)\n",
    "softdes = Event('SoftDes!', softdes_start, softdes_ends)\n",
    "QEA_start = datetime.datetime(year = 2017, month = 2, day = 23, hour = 9, minute = 0)\n",
    "QEA_ends = datetime.datetime(year = 2017, month = 2, day = 23, hour = 12, minute = 30)\n",
    "QEA = Event('QEA!', QEA_start, QEA_ends)\n",
    "Classes = Agenda([softdes, QEA])\n",
    "Classes.print_agenda()\n",
    "    "
   ]
  },
  {
   "cell_type": "markdown",
   "metadata": {},
   "source": [
    " "
   ]
  },
  {
   "cell_type": "markdown",
   "metadata": {},
   "source": [
    "Your `Agenda` class should include a `print_agenda` method that prints out your schedule for the day, in order.\n",
    "\n",
    "**Optional:** Include a `is_feasible` method that returns `True` if your schedule has no time conflicts. You may want to write additional helper methods for the `Event` class to make this easier."
   ]
  },
  {
   "cell_type": "code",
   "execution_count": null,
   "metadata": {
    "collapsed": true,
    "solution": "Exercise 3"
   },
   "outputs": [],
   "source": []
  },
  {
   "cell_type": "markdown",
   "metadata": {
    "is_question": true,
    "problem": "Exercise 4"
   },
   "source": [
    "### Going Beyond (optional)\n",
    "\n",
    "Some ideas for taking your application further:\n",
    " - Add people and/or places to the mix to create a scheduling assistant\n",
    " - Extend support for day-of-week or full date. A word of warning: dealing with dates and times in real applications is difficult due to the huge number of special cases (Perfect example: this reading journal is due on Leap Day). Consider using something like the Python [datetime](https://docs.python.org/3/library/datetime.html) module.\n",
    " - Use pickle or some other persistence strategy to save and load your `Agenda`."
   ]
  },
  {
   "cell_type": "code",
   "execution_count": null,
   "metadata": {
    "collapsed": true,
    "solution": "Exercise 4"
   },
   "outputs": [],
   "source": []
  },
  {
   "cell_type": "markdown",
   "metadata": {
    "poll_response": true,
    "solution": "Time spent"
   },
   "source": [
    " "
   ]
  },
  {
   "cell_type": "markdown",
   "metadata": {
    "is_question": true,
    "problem": "Feedback"
   },
   "source": [
    "## Reading Journal feedback\n",
    "\n",
    "[Please complete this short survey](https://docs.google.com/forms/d/e/1FAIpQLScQekhUrf6YYjpfQiAAbavLIA-IJklv_PX1BWbGgxj7JPolmw/viewform?c=0&w=1)\n",
    "\n",
    "If you have any comments on this Reading Journal, feel free to leave them in the survey linked above. This could include suggestions to improve the exercises, topics you'd like to see covered in class next time, or other feedback.\n",
    "\n",
    "If you have Python questions or run into problems while completing the reading, you should post them to Piazza instead so you can get a quick response before your journal is submitted."
   ]
  },
  {
   "cell_type": "markdown",
   "metadata": {
    "feedback_response": true,
    "solution": "Feedback"
   },
   "source": [
    " "
   ]
  }
 ],
 "metadata": {
  "kernelspec": {
   "display_name": "Python 3",
   "language": "python",
   "name": "python3"
  },
  "language_info": {
   "codemirror_mode": {
    "name": "ipython",
    "version": 3
   },
   "file_extension": ".py",
   "mimetype": "text/x-python",
   "name": "python",
   "nbconvert_exporter": "python",
   "pygments_lexer": "ipython3",
   "version": "3.5.2"
  }
 },
 "nbformat": 4,
 "nbformat_minor": 0
}
