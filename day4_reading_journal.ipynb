{
 "cells": [
  {
   "cell_type": "markdown",
   "metadata": {},
   "source": [
    "# Day 4 Reading Journal\n",
    "\n",
    "This journal includes several required exercises, but it is meant to encourage active reading more generally.  You should use the journal to take detailed notes, catalog questions, and explore the content from Think Python deeply.\n",
    "\n",
    "Reading: Think Python Chapter 10\n",
    "\n",
    "**Due: Monday, January 30 at 12 noon**\n",
    "\n"
   ]
  },
  {
   "cell_type": "markdown",
   "metadata": {},
   "source": [
    "## [Chapter 10](http://www.greenteapress.com/thinkpython2/html/thinkpython2011.html)\n",
    "\n",
    "You may want to review [state diagrams in Chapter 2](http://greenteapress.com/thinkpython2/html/thinkpython2003.html). [Python Tutor](http://pythontutor.com/) is also helpful for visualizing the state of your program.\n",
    "\n"
   ]
  },
  {
   "cell_type": "markdown",
   "metadata": {},
   "source": [
    "### Exercise 10.3 \n",
    "Write a function called `middle` that takes a list and returns a new list that contains all but the first and last elements. So `middle([1,2,3,4])` should return `[2,3]`."
   ]
  },
  {
   "cell_type": "code",
   "execution_count": 14,
   "metadata": {
    "collapsed": false
   },
   "outputs": [
    {
     "data": {
      "text/plain": [
       "[4, 5, 6]"
      ]
     },
     "execution_count": 14,
     "metadata": {},
     "output_type": "execute_result"
    }
   ],
   "source": [
    "def middle(list):\n",
    "    del list[0]\n",
    "    del list[-1]\n",
    "    return list\n",
    "\n",
    "middle([3,4,5,6,7])"
   ]
  },
  {
   "cell_type": "markdown",
   "metadata": {},
   "source": [
    "### Exercise 10.4 \n",
    "Write a function called `chop` that takes a list, modifies it by removing the first and last elements, and returns `None`.\n",
    "\n",
    "What is the difference between `middle` and `chop`? Sketch out the program state or take a look at each in Python Tutor and answer the question in the Markdown cell below."
   ]
  },
  {
   "cell_type": "code",
   "execution_count": 11,
   "metadata": {
    "collapsed": false
   },
   "outputs": [],
   "source": [
    "def chop(list):\n",
    "    del list[0]\n",
    "    del list[-1]\n",
    "    return None\n",
    "\n",
    "chop([1,2,3,4,5])"
   ]
  },
  {
   "cell_type": "markdown",
   "metadata": {},
   "source": [
    "After framing function, del list[0] and [-1] delete first and last elements. Then, at return None returns the value of \"None\""
   ]
  },
  {
   "cell_type": "markdown",
   "metadata": {},
   "source": [
    "### Exercise 10.6 \n",
    "Two words are anagrams if you can rearrange the letters from one to spell the other. Write a function called `is_anagram` that takes two strings and returns `True` if they are anagrams."
   ]
  },
  {
   "cell_type": "code",
   "execution_count": 17,
   "metadata": {
    "collapsed": false
   },
   "outputs": [
    {
     "name": "stdout",
     "output_type": "stream",
     "text": [
      "True\n",
      "True\n",
      "False\n"
     ]
    }
   ],
   "source": [
    "def is_anagram(list1,list2):\n",
    "    if len(list1) != len(list2):\n",
    "        return False\n",
    "    #!= means not equal to\n",
    "    for i in range(len(list1)):\n",
    "        if list1.count(list1[i]) == list2.count(list2[i]):\n",
    "            return True\n",
    "        else: \n",
    "            return False\n",
    "        \n",
    "\n",
    "print(is_anagram('a,p,p,l,e','a,e,p,p,l'))\n",
    "print(is_anagram('conrad','radcon'))\n",
    "print(is_anagram('apple','ppa'))"
   ]
  },
  {
   "cell_type": "markdown",
   "metadata": {},
   "source": [
    "### Exercise 10.8  \n",
    "The (so-called) Birthday Paradox: <br /><br />\n",
    "1\\. Write a function called `has_duplicates` that takes a list and returns `True` if there is any element that appears more than once. It should not modify the original list.\n",
    "\n",
    "2\\. If there are 23 students in your class, what are the chances that two of you have the same birthday? Put your answer in the Markdown cell below. You can estimate this probability by generating random samples of 23 birthdays and checking for matches. Hint: you can generate random birthdays with the randint function from the [random module](https://docs.python.org/2/library/random.html).\n",
    "\n",
    "You can read about this problem at http://en.wikipedia.org/wiki/Birthday_paradox, and you can download Allen's solution from http://greenteapress.com/thinkpython2/code/birthday.py."
   ]
  },
  {
   "cell_type": "code",
   "execution_count": 47,
   "metadata": {
    "collapsed": false
   },
   "outputs": [
    {
     "data": {
      "text/plain": [
       "True"
      ]
     },
     "execution_count": 47,
     "metadata": {},
     "output_type": "execute_result"
    }
   ],
   "source": [
    "def has_duplicates(t): \n",
    "        #returns true if two  of elements are identical\n",
    "        s = t[:]\n",
    "        #t is the copy of list to avoid modification\n",
    "        s.sort()\n",
    "        #sort the parameter list in order of element\n",
    "        for i in range(len(s)-1):\n",
    "            if s[i]==s[i+1]:\n",
    "            #check for adjacent elements\n",
    "            #since they are assorted in alphabetical orders/numerical orders, \n",
    "            #any two same letters should be adjacent\n",
    "                return True\n",
    "        return False\n",
    "            \n",
    "a = ['a','p','p','l','e']           \n",
    "has_duplicates(a)"
   ]
  },
  {
   "cell_type": "code",
   "execution_count": 71,
   "metadata": {
    "collapsed": false
   },
   "outputs": [
    {
     "name": "stdout",
     "output_type": "stream",
     "text": [
      "474\n"
     ]
    }
   ],
   "source": [
    "import random\n",
    "\n",
    "\n",
    "def has_duplicates(t):\n",
    "  \n",
    "    # s is a copy of list t to avoid modifying list t \n",
    "    s = t[:]\n",
    "    s.sort()\n",
    "\n",
    "    # sort the elements and returns true if two adjacent elements are equal\n",
    "    for i in range(len(s)-1):\n",
    "        if s[i] == s[i+1]:\n",
    "            return True\n",
    "    return False\n",
    "\n",
    "\n",
    "def random_birthdays(n):\n",
    "       #random_birthdays return n lists of birthdays that are completely random \n",
    "    t = []\n",
    "    for i in range(n):\n",
    "        bday = random.randint(1, 365)\n",
    "        t.append(bday)\n",
    "    return t\n",
    "\n",
    "\n",
    "def count_matches(num_students, num_simulations):\n",
    "    #count the number of matches for number of simulations\n",
    "    count = 0\n",
    "    for i in range(num_simulations):\n",
    "        t = random_birthdays(num_students)\n",
    "        if has_duplicates(t):\n",
    "            count += 1\n",
    "    return count\n",
    "\n",
    "\n",
    "def counting():\n",
    "    num_students = 23\n",
    "    num_simulations = 1000\n",
    "    count = count_matches(num_students, num_simulations)\n",
    "    print(count)\n",
    "    \n",
    "counting()"
   ]
  },
  {
   "cell_type": "markdown",
   "metadata": {},
   "source": [
    "After 1000 simulations with 23 numbers of students, 474 of simulations had at least one match. Therefore, the probability of having at least a pair of same birthday is 47.4%"
   ]
  },
  {
   "cell_type": "markdown",
   "metadata": {},
   "source": [
    "### Challenge: Exercise 10.10 (optional)\n",
    "\n",
    "You should read [Chapter 9.1](http://www.greenteapress.com/thinkpython2/html/thinkpython2010.html) and do Exercise 1 first.\n",
    "\n",
    "To check whether a word is in the word list, you could use the `in` operator, but it would be relatively slow because it searches through the words in order (try it).\n",
    "\n",
    "Because the words are in alphabetical order, we can speed things up with a bisection search (also known as binary search), which is similar to what you do when you look a word up in the dictionary. You start in the middle and check to see whether the word you are looking for comes before the word in the middle of the list. If so, then you search the first half of the list the same way. Otherwise you search the second half.\n",
    "\n",
    "Either way, you cut the remaining search space in half. If the word list has 113,809 words, it will take about 17 steps to find the word or conclude that it’s not there.\n",
    "\n",
    "Write a function called `bisect` that takes a sorted list and a target value and returns the index of the value in the list, if it’s there, or `None` if it’s not.\n",
    "\n",
    "Or you could read the documentation of the `bisect` module and use that! Solution: http://greenteapress.com/thinkpython2/code/inlist.py."
   ]
  },
  {
   "cell_type": "code",
   "execution_count": null,
   "metadata": {
    "collapsed": true
   },
   "outputs": [],
   "source": []
  },
  {
   "cell_type": "markdown",
   "metadata": {},
   "source": [
    "## Reading Journal feedback\n",
    "\n",
    "Have any comments on this Reading Journal? Feel free to leave them [here](https://goo.gl/forms/hZqCUAi4ir7hVN6x2) and we'll read them when you submit your journal entry. This could include suggestions to improve the exercises, topics you'd like to see covered in class next time, or other feedback.\n",
    "\n",
    "If you have Python questions or run into problems while completing the reading, you should post them to Piazza instead so you can get a quick response before your journal is submitted."
   ]
  }
 ],
 "metadata": {
  "kernelspec": {
   "display_name": "Python 3",
   "language": "python",
   "name": "python3"
  },
  "language_info": {
   "codemirror_mode": {
    "name": "ipython",
    "version": 3
   },
   "file_extension": ".py",
   "mimetype": "text/x-python",
   "name": "python",
   "nbconvert_exporter": "python",
   "pygments_lexer": "ipython3",
   "version": "3.5.2"
  }
 },
 "nbformat": 4,
 "nbformat_minor": 0
}
